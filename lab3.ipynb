{
 "cells": [
  {
   "cell_type": "markdown",
   "id": "4958730a",
   "metadata": {},
   "source": [
    "# Python Classes"
   ]
  },
  {
   "cell_type": "markdown",
   "id": "03329e5d",
   "metadata": {},
   "source": [
    "Define a class which has at least two methods: getString: to get a string from console input printString: to print the string in upper case."
   ]
  },
  {
   "cell_type": "code",
   "execution_count": null,
   "id": "aafca60f",
   "metadata": {},
   "outputs": [],
   "source": [
    "class Myclass():\n",
    " def getString(self):\n",
    "        self.x=input()\n",
    " def printString(self):\n",
    "     print(self.x.upper())\n",
    "        \n",
    "t=Myclass()\n",
    "t.getString()\n",
    "t.printString()"
   ]
  },
  {
   "cell_type": "markdown",
   "id": "ac8e9a44",
   "metadata": {},
   "source": [
    "Define a class named Shape and its subclass Square. The Square class has an init function which takes a length as argument. Both classes have a area function which can print the area of the shape where Shape's area is 0 by default."
   ]
  },
  {
   "cell_type": "code",
   "execution_count": 3,
   "id": "e14703bb",
   "metadata": {},
   "outputs": [
    {
     "name": "stdout",
     "output_type": "stream",
     "text": [
      "36\n"
     ]
    }
   ],
   "source": [
    "class Square:\n",
    "    def __init__(self, length ):\n",
    "        self.length  = length\n",
    "\n",
    "    def area (self):\n",
    "        print(self.length * self.length == 0)  \n",
    "\n",
    "class Shape(Square):\n",
    "    def __init__(self, length):\n",
    "        self.length  = length\n",
    "    \n",
    "    def area (self) :\n",
    "        return (self.length * self.length) \n",
    "my=Shape(6)\n",
    "print(my.area())"
   ]
  },
  {
   "cell_type": "markdown",
   "id": "77c6256c",
   "metadata": {},
   "source": [
    "Define a class named Rectangle which inherits from Shape class from task 2. Class instance can be constructed by a length and width. The Rectangle class has a method which can compute the area."
   ]
  },
  {
   "cell_type": "code",
   "execution_count": 8,
   "id": "891f8893",
   "metadata": {},
   "outputs": [
    {
     "name": "stdout",
     "output_type": "stream",
     "text": [
      "30\n"
     ]
    }
   ],
   "source": [
    "class Rectangle(Square):\n",
    "\n",
    "    def __init__(self,  width, length):\n",
    "        self.width = width\n",
    "        Square.__init__(self,length)\n",
    "    def area (self):\n",
    "        print( self.length  * self.width) \n",
    "        \n",
    "did=Rectangle(5,6)\n",
    "did.area()"
   ]
  },
  {
   "cell_type": "markdown",
   "id": "c775db8c",
   "metadata": {},
   "source": [
    "Write the definition of a Point class. Objects from this class should have a\n",
    "\n",
    "a method show to display the coordinates of the point\n",
    "a method move to change these coordinates\n",
    "a method dist that computes the distance between 2 points"
   ]
  },
  {
   "cell_type": "code",
   "execution_count": 9,
   "id": "b3486fa2",
   "metadata": {},
   "outputs": [
    {
     "name": "stdout",
     "output_type": "stream",
     "text": [
      "5 9\n",
      "New coor: 7 8\n",
      "7 8\n",
      "2.23606797749979\n"
     ]
    }
   ],
   "source": [
    "import math\n",
    "\n",
    "class point:\n",
    "    def __init__(self, x  , y  ):\n",
    "        self.x  = x\n",
    "        self.y  = y\n",
    "\n",
    "    def show(self):\n",
    "        print(f'{self.x}'+ ' '+ f'{self.y}')\n",
    "\n",
    "    def move(self, x , y):\n",
    "        self.x = x\n",
    "        self.y = y\n",
    "        print('New coor:',self.x,self.y)\n",
    "\n",
    "    def dist(self,x,y):\n",
    "        d = math.sqrt(pow((self.x - x),2) + pow((self.y - y),2))\n",
    "        print(d)  \n",
    "p = point(5,9)\n",
    "p.show()\n",
    "p.move(7 , 8)\n",
    "p.show()\n",
    "p.dist(5,9)\n"
   ]
  },
  {
   "cell_type": "markdown",
   "id": "288736d4",
   "metadata": {},
   "source": [
    "Create a bank account class that has attributes owner, balance and two methods deposit and withdraw. Withdrawals may not exceed the available balance. Instantiate your class, make several deposits and withdrawals, and test to make sure the account can't be overdrawn"
   ]
  },
  {
   "cell_type": "code",
   "execution_count": 4,
   "id": "58551c90",
   "metadata": {},
   "outputs": [
    {
     "name": "stdout",
     "output_type": "stream",
     "text": [
      "balance of Dilnaz : 250\n",
      "lack of money\n",
      "balance of Aida : 1050\n",
      "balance of Aida : 550\n"
     ]
    }
   ],
   "source": [
    "class bank:\n",
    "    def __init__(self, name  , balance = 0 ):\n",
    "        self.name  = name\n",
    "        self.balance  = balance\n",
    "    def withdraw(self,add):\n",
    "        self.balance = self.balance+add\n",
    "        print('balance of',self.name,':',self.balance)\n",
    "    def deposit(self,min):\n",
    "        if min > self.balance:\n",
    "            print(\"lack of money\")\n",
    "        else:\n",
    "            self.balance = self.balance - min\n",
    "            print('balance of',self.name,':',self.balance)\n",
    "\n",
    "f = bank('Dilnaz',200)\n",
    "f.withdraw(50)\n",
    "f.deposit(251)\n",
    "\n",
    "\n",
    "s = bank('Aida', 50)\n",
    "s.withdraw(1000)\n",
    "s.deposit(500)"
   ]
  },
  {
   "cell_type": "markdown",
   "id": "acfa7a46",
   "metadata": {},
   "source": [
    "Write a program which can filter prime numbers in a list by using filter function. Note: Use lambda to define anonymous functions."
   ]
  },
  {
   "cell_type": "code",
   "execution_count": 24,
   "id": "5bd1fd58",
   "metadata": {},
   "outputs": [
    {
     "name": "stdout",
     "output_type": "stream",
     "text": [
      "[2, 5, 7]\n"
     ]
    }
   ],
   "source": [
    "import math \n",
    "def isprime(x):\n",
    "    if x==1:\n",
    "        return False\n",
    "    i=2\n",
    "    while i<=math.sqrt(x):\n",
    "        if x%i==0  :\n",
    "          return False\n",
    "        i+=1\n",
    "    return True\n",
    "\n",
    "# def filter_prime(n):\n",
    "#     for i in n :\n",
    "#         if isprime(i):\n",
    "#             print (i)\n",
    "#         i+=1\n",
    "\n",
    "my_list=[1,2,4,5,6,7,9]\n",
    "print(list(filter(lambda x:isprime(x),my_list)))\n",
    "\n"
   ]
  },
  {
   "cell_type": "markdown",
   "id": "1689014c",
   "metadata": {},
   "source": [
    "# python functions1"
   ]
  },
  {
   "cell_type": "markdown",
   "id": "e92c2230",
   "metadata": {},
   "source": [
    "A recipe you are reading states how many grams you need for the ingredient. Unfortunately, your store only sells items in ounces. Create a function to convert grams to ounces. ounces = 28.3495231 * grams"
   ]
  },
  {
   "cell_type": "code",
   "execution_count": 1,
   "id": "a83431cb",
   "metadata": {},
   "outputs": [
    {
     "name": "stdout",
     "output_type": "stream",
     "text": [
      "141.7476155\n"
     ]
    }
   ],
   "source": [
    "def convert(gram):\n",
    "    return 28.3495231*gram\n",
    "print(convert(5))"
   ]
  },
  {
   "cell_type": "markdown",
   "id": "75f625c9",
   "metadata": {},
   "source": [
    "Read in a Fahrenheit temperature. Calculate and display the equivalent centigrade temperature. The following formula is used \n",
    "for the conversion: C = (5 / 9) * (F – 32)"
   ]
  },
  {
   "cell_type": "code",
   "execution_count": 21,
   "id": "17855aa8",
   "metadata": {},
   "outputs": [
    {
     "name": "stdout",
     "output_type": "stream",
     "text": [
      "373\n",
      "189.44444444444446\n"
     ]
    }
   ],
   "source": [
    "def Centigrate(F):\n",
    "    return (5/9)*(F-32)\n",
    "\n",
    "print(Centigrate(int(input())))"
   ]
  },
  {
   "cell_type": "markdown",
   "id": "af40a9a4",
   "metadata": {},
   "source": [
    "Write a program to solve a classic puzzle: We count 35 heads and 94 legs among the chickens and rabbits in a farm. How many rabbits and how many chickens do we have? create function: solve(numheads, numlegs):"
   ]
  },
  {
   "cell_type": "code",
   "execution_count": 25,
   "id": "d02dea98",
   "metadata": {},
   "outputs": [
    {
     "name": "stdout",
     "output_type": "stream",
     "text": [
      "number of rabits:  12\n",
      "number of chickens: 23\n"
     ]
    }
   ],
   "source": [
    "def solve(numheads:int, numlegs:int):\n",
    "    rabit=int((numlegs-numheads*2)/2)\n",
    "    print (\"number of rabits: \" ,rabit)\n",
    "    print (\"number of chickens:\" , numheads-rabit)\n",
    "solve(35 , 94)"
   ]
  },
  {
   "cell_type": "markdown",
   "id": "62c35386",
   "metadata": {},
   "source": [
    "You are given list of numbers separated by spaces. Write a function filter_prime which will take list of numbers as an agrument and returns only prime numbers from the list.\n",
    "\n"
   ]
  },
  {
   "cell_type": "code",
   "execution_count": 16,
   "id": "0c5f5ca0",
   "metadata": {},
   "outputs": [
    {
     "name": "stdout",
     "output_type": "stream",
     "text": [
      "4 7 5 6 4 \n",
      "7\n",
      "5\n"
     ]
    }
   ],
   "source": [
    "import math \n",
    "def isprime(t):\n",
    "    if t==1:\n",
    "        return False\n",
    "    i=2\n",
    "    while i<=math.sqrt(t):\n",
    "        if t%i==0  :\n",
    "          return False\n",
    "        i+=1\n",
    "    return True\n",
    "\n",
    "def filter_prime(n):\n",
    "    for i in n :\n",
    "        if isprime(i):\n",
    "            print (i)\n",
    "        i+=1\n",
    "\n",
    "my_list=list(map(int,input().split()))\n",
    "filter_prime(my_list)\n"
   ]
  },
  {
   "cell_type": "raw",
   "id": "6de6428e",
   "metadata": {},
   "source": [
    "Write a function that accepts string from user and print all permutations of that string."
   ]
  },
  {
   "cell_type": "code",
   "execution_count": 4,
   "id": "f5d18902",
   "metadata": {},
   "outputs": [
    {
     "name": "stdout",
     "output_type": "stream",
     "text": [
      "abs\n",
      "['abs', 'asb', 'bas', 'bsa', 'sab', 'sba']\n"
     ]
    }
   ],
   "source": [
    "from itertools import permutations\n",
    "def per():\n",
    "    s = input()\n",
    "    print(list((map(lambda x: ''.join(x), permutations(s)))))\n",
    "per()"
   ]
  },
  {
   "cell_type": "markdown",
   "id": "30f1b5b5",
   "metadata": {},
   "source": [
    "Write a function that accepts string from user, return a sentence with the words reversed. We are ready -> ready are We\n",
    "\n"
   ]
  },
  {
   "cell_type": "code",
   "execution_count": 35,
   "id": "ad0724f8",
   "metadata": {},
   "outputs": [
    {
     "name": "stdout",
     "output_type": "stream",
     "text": [
      "we are ready\n",
      "ready are we\n"
     ]
    }
   ],
   "source": [
    "def reverse(str):\n",
    "    l=str.split()\n",
    "    l.reverse()\n",
    "    print(*l)\n",
    "reverse(input())"
   ]
  },
  {
   "cell_type": "markdown",
   "id": "e7ad5b92",
   "metadata": {},
   "source": [
    "Given a list of ints, return True if the array contains a 3 next to a 3 somewhere."
   ]
  },
  {
   "cell_type": "code",
   "execution_count": 1,
   "id": "6c79e2ac",
   "metadata": {},
   "outputs": [
    {
     "name": "stdout",
     "output_type": "stream",
     "text": [
      "True\n",
      "False\n",
      "False\n"
     ]
    }
   ],
   "source": [
    "def has_33(nums):\n",
    "  for i in range(len(nums)-1):\n",
    "      if nums[i]==nums[i+1]==3:\n",
    "          return True\n",
    "      i+=1\n",
    "   \n",
    "  return False\n",
    "\n",
    "\n",
    "print(has_33([1, 3, 3]))\n",
    "print( has_33([1, 3, 1, 3])) \n",
    "print( has_33([3, 1, 3])) "
   ]
  },
  {
   "cell_type": "markdown",
   "id": "1f864ff9",
   "metadata": {},
   "source": [
    "Write a function that takes in a list of integers and returns True if it contains 007 in order"
   ]
  },
  {
   "cell_type": "code",
   "execution_count": 7,
   "id": "3282c4f7",
   "metadata": {},
   "outputs": [
    {
     "name": "stdout",
     "output_type": "stream",
     "text": [
      "True\n",
      "True\n",
      "False\n"
     ]
    }
   ],
   "source": [
    "def spy_game(li):\n",
    "    i = 0\n",
    "    while i != len(li) :\n",
    "        if li[i] == 0:\n",
    "            k = i\n",
    "            while k != len(li) :\n",
    "                if li[k] == 0:\n",
    "                    o = k\n",
    "    \n",
    "                    while o != len(li) :\n",
    "                        if li[o] == 7 :\n",
    "                            return True    \n",
    "                        o+=1\n",
    "                k+=1\n",
    "        i+=1\n",
    "    return False\n",
    "\n",
    "print(spy_game([1,2,4,0,0,7,5]))  #True\n",
    "print(spy_game([1,0,2,4,0,5,7])) #True\n",
    "print(spy_game([1,7,2,0,4,5,0])) # False"
   ]
  },
  {
   "cell_type": "markdown",
   "id": "7b1b4076",
   "metadata": {},
   "source": [
    "Write a function that computes the volume of a sphere given its radius."
   ]
  },
  {
   "cell_type": "code",
   "execution_count": 9,
   "id": "8fdf9062",
   "metadata": {},
   "outputs": [
    {
     "name": "stdout",
     "output_type": "stream",
     "text": [
      "268.082573106329\n"
     ]
    }
   ],
   "source": [
    "import math\n",
    "def volume(r):\n",
    "    return 4/3*r**3*math.pi\n",
    "print(volume(4))\n",
    "    \n",
    "    \n",
    "    "
   ]
  },
  {
   "cell_type": "markdown",
   "id": "6607ede6",
   "metadata": {},
   "source": [
    "Write a Python function that takes a list and returns a new list with unique elements of the first list. Note: don't use collection set."
   ]
  },
  {
   "cell_type": "code",
   "execution_count": 13,
   "id": "f0798fc8",
   "metadata": {},
   "outputs": [
    {
     "name": "stdout",
     "output_type": "stream",
     "text": [
      "[4, 5, 3, 2, 12, 1]\n"
     ]
    }
   ],
   "source": [
    "def set(*list):\n",
    "    x=[]\n",
    "    for i in list:\n",
    "        if i not in x:\n",
    "            x.append(i)\n",
    "    return x\n",
    "print(set(4,5,3,2,12,1,2,3))\n",
    " "
   ]
  },
  {
   "cell_type": "markdown",
   "id": "bc396ea0",
   "metadata": {},
   "source": [
    "Write a Python function that checks whether a word or phrase is palindrome or not. Note: A palindrome is word, phrase, or sequence that reads the same backward as forward, e.g., madam\n"
   ]
  },
  {
   "cell_type": "code",
   "execution_count": 15,
   "id": "e5f68d02",
   "metadata": {},
   "outputs": [
    {
     "ename": "SyntaxError",
     "evalue": "invalid syntax (380594299.py, line 4)",
     "output_type": "error",
     "traceback": [
      "\u001b[1;36m  File \u001b[1;32m\"C:\\Users\\админ\\AppData\\Local\\Temp\\ipykernel_2652\\380594299.py\"\u001b[1;36m, line \u001b[1;32m4\u001b[0m\n\u001b[1;33m    if string[i]==string[n-1-i]\u001b[0m\n\u001b[1;37m                               ^\u001b[0m\n\u001b[1;31mSyntaxError\u001b[0m\u001b[1;31m:\u001b[0m invalid syntax\n"
     ]
    }
   ],
   "source": [
    "def palin(string):\n",
    "    n=len(string)\n",
    "    i=0\n",
    "    while i<n/2:\n",
    "        if string[i]!=string[n-1-i]:\n",
    "              return False\n",
    "        i+=1\n",
    "        \n",
    "    return True\n",
    "print(palin(\"madam\"))"
   ]
  },
  {
   "cell_type": "markdown",
   "id": "3dd20503",
   "metadata": {},
   "source": [
    "Define a functino histogram() that takes a list of integers and prints a histogram to the screen.\n",
    "For example, histogram([4, 9, 7]) should print the following:"
   ]
  },
  {
   "cell_type": "code",
   "execution_count": 16,
   "id": "34f39ee8",
   "metadata": {},
   "outputs": [
    {
     "name": "stdout",
     "output_type": "stream",
     "text": [
      "4 9 7\n",
      "****\n",
      "*********\n",
      "*******\n"
     ]
    }
   ],
   "source": [
    "def his(list):\n",
    "    for i in list:\n",
    "        print(\"*\"*i)\n",
    "lis=list(map(int,input().split()))\n",
    "his(lis)"
   ]
  },
  {
   "cell_type": "markdown",
   "id": "f939be57",
   "metadata": {},
   "source": [
    "Write a program able to play the \"Guess the number\" - game, where the number to be guessed is randomly chosen between 1 and 20. This is how it should work when run in a terminal:"
   ]
  },
  {
   "cell_type": "code",
   "execution_count": null,
   "id": "e3695ed1",
   "metadata": {},
   "outputs": [
    {
     "name": "stdout",
     "output_type": "stream",
     "text": [
      "hello What is your name?\n",
      "Dilnaz\n",
      "Well,Dilnaz I am thinking of a number between 1 and 20.\n",
      "Take a guess.\n",
      "5\n",
      "Your guess is too litlle             \n",
      "Take a guess\n",
      "10\n",
      "Your guess is too litlle             \n",
      "Take a guess\n",
      "13\n",
      "Your guess is too litlle             \n",
      "Take a guess\n",
      "18\n",
      "Your guess is too big             \n",
      "Take a guess\n",
      "17\n",
      "Your guess is too big             \n",
      "Take a guess\n",
      "16\n",
      "Your guess is too big             \n",
      "Take a guess\n",
      "15\n",
      "Good job, Dilnaz! You guessed my number in 7 guesses!\n"
     ]
    }
   ],
   "source": [
    "import random\n",
    "print(\"hello What is your name?\")\n",
    "name=input()\n",
    "rand=random.randrange(1,20)\n",
    "cnt=0\n",
    "\n",
    "print(f\"Well,{name} I am thinking of a number between 1 and 20.\")\n",
    "print(\"Take a guess.\")\n",
    "\n",
    "while True:\n",
    "    guess=int(input())\n",
    "    cnt+=1\n",
    "    if guess==rand:\n",
    "        print(f\"Good job, {name}! You guessed my number in {cnt} guesses!\")\n",
    "    elif guess<rand :\n",
    "        print(\"Your guess is too litlle \\\n",
    "            \\nTake a guess\")\n",
    "    elif guess>rand :\n",
    "        print(\"Your guess is too big \\\n",
    "            \\nTake a guess\")"
   ]
  },
  {
   "cell_type": "markdown",
   "id": "830f2630",
   "metadata": {},
   "source": [
    "Create a python file and import some of the functions from the above 13 tasks and try to use them."
   ]
  },
  {
   "cell_type": "code",
   "execution_count": null,
   "id": "1a8d1226",
   "metadata": {},
   "outputs": [],
   "source": []
  },
  {
   "cell_type": "markdown",
   "id": "ba04800a",
   "metadata": {},
   "source": [
    "# Python Functions2"
   ]
  },
  {
   "cell_type": "markdown",
   "id": "2162c3d5",
   "metadata": {},
   "source": [
    "Write a function that takes a single movie and returns True if its IMDB score is above 5.5"
   ]
  },
  {
   "cell_type": "code",
   "execution_count": 7,
   "id": "30ae6b41",
   "metadata": {},
   "outputs": [
    {
     "name": "stdout",
     "output_type": "stream",
     "text": [
      "True True True True True True True False False False True True True False True\n"
     ]
    }
   ],
   "source": [
    "def movie(dic):\n",
    "    if float(dic[\"imdb\"])>5.5:\n",
    "        return True\n",
    "    return False\n",
    "movies = [\n",
    "{\n",
    "\"name\": \"Usual Suspects\", \n",
    "\"imdb\": 7.0,\n",
    "\"category\": \"Thriller\"\n",
    "},\n",
    "{\n",
    "\"name\": \"Hitman\",\n",
    "\"imdb\": 6.3,\n",
    "\"category\": \"Action\"\n",
    "},\n",
    "{\n",
    "\"name\": \"Dark Knight\",\n",
    "\"imdb\": 9.0,\n",
    "\"category\": \"Adventure\"\n",
    "},\n",
    "{\n",
    "\"name\": \"The Help\",\n",
    "\"imdb\": 8.0,\n",
    "\"category\": \"Drama\"\n",
    "},\n",
    "{\n",
    "\"name\": \"The Choice\",\n",
    "\"imdb\": 6.2,\n",
    "\"category\": \"Romance\"\n",
    "},\n",
    "{\n",
    "\"name\": \"Colonia\",\n",
    "\"imdb\": 7.4,\n",
    "\"category\": \"Romance\"\n",
    "},\n",
    "{\n",
    "\"name\": \"Love\",\n",
    "\"imdb\": 6.0,\n",
    "\"category\": \"Romance\"\n",
    "},\n",
    "{\n",
    "\"name\": \"Bride Wars\",\n",
    "\"imdb\": 5.4,\n",
    "\"category\": \"Romance\"\n",
    "},\n",
    "{\n",
    "\"name\": \"AlphaJet\",\n",
    "\"imdb\": 3.2,\n",
    "\"category\": \"War\"\n",
    "},\n",
    "{\n",
    "\"name\": \"Ringing Crime\",\n",
    "\"imdb\": 4.0,\n",
    "\"category\": \"Crime\"\n",
    "},\n",
    "{\n",
    "\"name\": \"Joking muck\",\n",
    "\"imdb\": 7.2,\n",
    "\"category\": \"Comedy\"\n",
    "},\n",
    "{\n",
    "\"name\": \"What is the name\",\n",
    "\"imdb\": 9.2,\n",
    "\"category\": \"Suspense\"\n",
    "},\n",
    "{\n",
    "\"name\": \"Detective\",\n",
    "\"imdb\": 7.0,\n",
    "\"category\": \"Suspense\"\n",
    "},\n",
    "{\n",
    "\"name\": \"Exam\",\n",
    "\"imdb\": 4.2,\n",
    "\"category\": \"Thriller\"\n",
    "},\n",
    "{\n",
    "\"name\": \"We Two\",\n",
    "\"imdb\": 7.2,\n",
    "\"category\": \"Romance\"\n",
    "}\n",
    "]      \n",
    "print(*list(map(movie,movies)))"
   ]
  },
  {
   "cell_type": "markdown",
   "id": "e65b326b",
   "metadata": {},
   "source": [
    "Write a function that returns a sublist of movies with an IMDB score above 5.5.\n",
    "\n"
   ]
  },
  {
   "cell_type": "code",
   "execution_count": 8,
   "id": "e6d497ab",
   "metadata": {},
   "outputs": [
    {
     "name": "stdout",
     "output_type": "stream",
     "text": [
      "Usual Suspects\n",
      "Hitman\n",
      "Dark Knight\n",
      "The Help\n",
      "The Choice\n",
      "Colonia\n",
      "Love\n",
      "Joking muck\n",
      "What is the name\n",
      "Detective\n",
      "We Two\n"
     ]
    },
    {
     "data": {
      "text/plain": [
       "[]"
      ]
     },
     "execution_count": 8,
     "metadata": {},
     "output_type": "execute_result"
    }
   ],
   "source": [
    "def movie(dic):\n",
    "    if int(dic[\"imdb\"])>5.5:\n",
    "        print(dic[\"name\"])\n",
    "movies = [\n",
    "{\n",
    "\"name\": \"Usual Suspects\", \n",
    "\"imdb\": 7.0,\n",
    "\"category\": \"Thriller\"\n",
    "},\n",
    "{\n",
    "\"name\": \"Hitman\",\n",
    "\"imdb\": 6.3,\n",
    "\"category\": \"Action\"\n",
    "},\n",
    "{\n",
    "\"name\": \"Dark Knight\",\n",
    "\"imdb\": 9.0,\n",
    "\"category\": \"Adventure\"\n",
    "},\n",
    "{\n",
    "\"name\": \"The Help\",\n",
    "\"imdb\": 8.0,\n",
    "\"category\": \"Drama\"\n",
    "},\n",
    "{\n",
    "\"name\": \"The Choice\",\n",
    "\"imdb\": 6.2,\n",
    "\"category\": \"Romance\"\n",
    "},\n",
    "{\n",
    "\"name\": \"Colonia\",\n",
    "\"imdb\": 7.4,\n",
    "\"category\": \"Romance\"\n",
    "},\n",
    "{\n",
    "\"name\": \"Love\",\n",
    "\"imdb\": 6.0,\n",
    "\"category\": \"Romance\"\n",
    "},\n",
    "{\n",
    "\"name\": \"Bride Wars\",\n",
    "\"imdb\": 5.4,\n",
    "\"category\": \"Romance\"\n",
    "},\n",
    "{\n",
    "\"name\": \"AlphaJet\",\n",
    "\"imdb\": 3.2,\n",
    "\"category\": \"War\"\n",
    "},\n",
    "{\n",
    "\"name\": \"Ringing Crime\",\n",
    "\"imdb\": 4.0,\n",
    "\"category\": \"Crime\"\n",
    "},\n",
    "{\n",
    "\"name\": \"Joking muck\",\n",
    "\"imdb\": 7.2,\n",
    "\"category\": \"Comedy\"\n",
    "},\n",
    "{\n",
    "\"name\": \"What is the name\",\n",
    "\"imdb\": 9.2,\n",
    "\"category\": \"Suspense\"\n",
    "},\n",
    "{\n",
    "\"name\": \"Detective\",\n",
    "\"imdb\": 7.0,\n",
    "\"category\": \"Suspense\"\n",
    "},\n",
    "{\n",
    "\"name\": \"Exam\",\n",
    "\"imdb\": 4.2,\n",
    "\"category\": \"Thriller\"\n",
    "},\n",
    "{\n",
    "\"name\": \"We Two\",\n",
    "\"imdb\": 7.2,\n",
    "\"category\": \"Romance\"\n",
    "}\n",
    "]      \n",
    "list(filter(movie,movies))"
   ]
  },
  {
   "cell_type": "markdown",
   "id": "cb10ab37",
   "metadata": {},
   "source": [
    "Write a function that takes a category name and returns just those movies under that category."
   ]
  },
  {
   "cell_type": "code",
   "execution_count": null,
   "id": "70d4fa21",
   "metadata": {},
   "outputs": [],
   "source": [
    "t=input()\n",
    "def category(lis):\n",
    "    \n",
    "    for i in lis:\n",
    "        if str(i[\"category\"])==t:\n",
    "            print (i[\"name\"])\n",
    "            \n",
    "movies = [\n",
    "{\n",
    "\"name\": \"Usual Suspects\", \n",
    "\"imdb\": 7.0,\n",
    "\"category\": \"Thriller\"\n",
    "},\n",
    "{\n",
    "\"name\": \"Hitman\",\n",
    "\"imdb\": 6.3,\n",
    "\"category\": \"Action\"\n",
    "},\n",
    "{\n",
    "\"name\": \"Dark Knight\",\n",
    "\"imdb\": 9.0,\n",
    "\"category\": \"Adventure\"\n",
    "},\n",
    "{\n",
    "\"name\": \"The Help\",\n",
    "\"imdb\": 8.0,\n",
    "\"category\": \"Drama\"\n",
    "},\n",
    "{\n",
    "\"name\": \"The Choice\",\n",
    "\"imdb\": 6.2,\n",
    "\"category\": \"Romance\"\n",
    "},\n",
    "{\n",
    "\"name\": \"Colonia\",\n",
    "\"imdb\": 7.4,\n",
    "\"category\": \"Romance\"\n",
    "},\n",
    "{\n",
    "\"name\": \"Love\",\n",
    "\"imdb\": 6.0,\n",
    "\"category\": \"Romance\"\n",
    "},\n",
    "{\n",
    "\"name\": \"Bride Wars\",\n",
    "\"imdb\": 5.4,\n",
    "\"category\": \"Romance\"\n",
    "},\n",
    "{\n",
    "\"name\": \"AlphaJet\",\n",
    "\"imdb\": 3.2,\n",
    "\"category\": \"War\"\n",
    "},\n",
    "{\n",
    "\"name\": \"Ringing Crime\",\n",
    "\"imdb\": 4.0,\n",
    "\"category\": \"Crime\"\n",
    "},\n",
    "{\n",
    "\"name\": \"Joking muck\",\n",
    "\"imdb\": 7.2,\n",
    "\"category\": \"Comedy\"\n",
    "},\n",
    "{\n",
    "\"name\": \"What is the name\",\n",
    "\"imdb\": 9.2,\n",
    "\"category\": \"Suspense\"\n",
    "},\n",
    "{\n",
    "\"name\": \"Detective\",\n",
    "\"imdb\": 7.0,\n",
    "\"category\": \"Suspense\"\n",
    "},\n",
    "{\n",
    "\"name\": \"Exam\",\n",
    "\"imdb\": 4.2,\n",
    "\"category\": \"Thriller\"\n",
    "},\n",
    "{\n",
    "\"name\": \"We Two\",\n",
    "\"imdb\": 7.2,\n",
    "\"category\": \"Romance\"\n",
    "}\n",
    "]\n",
    "category(movies)"
   ]
  },
  {
   "cell_type": "code",
   "execution_count": 2,
   "id": "90dd09c9",
   "metadata": {},
   "outputs": [
    {
     "name": "stdout",
     "output_type": "stream",
     "text": [
      "6.486666666666667\n"
     ]
    }
   ],
   "source": [
    "def sum(lis):\n",
    "    sum=0\n",
    "    for i in lis:\n",
    "       sum+=i[\"imdb\"]\n",
    "    return sum/len(lis)\n",
    "movies = [\n",
    "{\n",
    "\"name\": \"Usual Suspects\", \n",
    "\"imdb\": 7.0,\n",
    "\"category\": \"Thriller\"\n",
    "},\n",
    "{\n",
    "\"name\": \"Hitman\",\n",
    "\"imdb\": 6.3,\n",
    "\"category\": \"Action\"\n",
    "},\n",
    "{\n",
    "\"name\": \"Dark Knight\",\n",
    "\"imdb\": 9.0,\n",
    "\"category\": \"Adventure\"\n",
    "},\n",
    "{\n",
    "\"name\": \"The Help\",\n",
    "\"imdb\": 8.0,\n",
    "\"category\": \"Drama\"\n",
    "},\n",
    "{\n",
    "\"name\": \"The Choice\",\n",
    "\"imdb\": 6.2,\n",
    "\"category\": \"Romance\"\n",
    "},\n",
    "{\n",
    "\"name\": \"Colonia\",\n",
    "\"imdb\": 7.4,\n",
    "\"category\": \"Romance\"\n",
    "},\n",
    "{\n",
    "\"name\": \"Love\",\n",
    "\"imdb\": 6.0,\n",
    "\"category\": \"Romance\"\n",
    "},\n",
    "{\n",
    "\"name\": \"Bride Wars\",\n",
    "\"imdb\": 5.4,\n",
    "\"category\": \"Romance\"\n",
    "},\n",
    "{\n",
    "\"name\": \"AlphaJet\",\n",
    "\"imdb\": 3.2,\n",
    "\"category\": \"War\"\n",
    "},\n",
    "{\n",
    "\"name\": \"Ringing Crime\",\n",
    "\"imdb\": 4.0,\n",
    "\"category\": \"Crime\"\n",
    "},\n",
    "{\n",
    "\"name\": \"Joking muck\",\n",
    "\"imdb\": 7.2,\n",
    "\"category\": \"Comedy\"\n",
    "},\n",
    "{\n",
    "\"name\": \"What is the name\",\n",
    "\"imdb\": 9.2,\n",
    "\"category\": \"Suspense\"\n",
    "},\n",
    "{\n",
    "\"name\": \"Detective\",\n",
    "\"imdb\": 7.0,\n",
    "\"category\": \"Suspense\"\n",
    "},\n",
    "{\n",
    "\"name\": \"Exam\",\n",
    "\"imdb\": 4.2,\n",
    "\"category\": \"Thriller\"\n",
    "},\n",
    "{\n",
    "\"name\": \"We Two\",\n",
    "\"imdb\": 7.2,\n",
    "\"category\": \"Romance\"\n",
    "}\n",
    "]\n",
    "print(sum(movies))"
   ]
  },
  {
   "cell_type": "markdown",
   "id": "a96fae94",
   "metadata": {},
   "source": [
    "Write a function that takes a category and computes the average IMDB score."
   ]
  },
  {
   "cell_type": "code",
   "execution_count": 1,
   "id": "6060eb0a",
   "metadata": {},
   "outputs": [
    {
     "name": "stdout",
     "output_type": "stream",
     "text": [
      "Thriller\n",
      "5.6\n"
     ]
    }
   ],
   "source": [
    "t=input()\n",
    "def category(lis):\n",
    "    sum=0\n",
    "    l=0\n",
    "    for i in lis:\n",
    "        if str(i[\"category\"])==t:\n",
    "          sum+=float(i[\"imdb\"])\n",
    "          l+=1\n",
    "    print(sum/l)        \n",
    "movies = [\n",
    "{\n",
    "\"name\": \"Usual Suspects\", \n",
    "\"imdb\": 7.0,\n",
    "\"category\": \"Thriller\"\n",
    "},\n",
    "{\n",
    "\"name\": \"Hitman\",\n",
    "\"imdb\": 6.3,\n",
    "\"category\": \"Action\"\n",
    "},\n",
    "{\n",
    "\"name\": \"Dark Knight\",\n",
    "\"imdb\": 9.0,\n",
    "\"category\": \"Adventure\"\n",
    "},\n",
    "{\n",
    "\"name\": \"The Help\",\n",
    "\"imdb\": 8.0,\n",
    "\"category\": \"Drama\"\n",
    "},\n",
    "{\n",
    "\"name\": \"The Choice\",\n",
    "\"imdb\": 6.2,\n",
    "\"category\": \"Romance\"\n",
    "},\n",
    "{\n",
    "\"name\": \"Colonia\",\n",
    "\"imdb\": 7.4,\n",
    "\"category\": \"Romance\"\n",
    "},\n",
    "{\n",
    "\"name\": \"Love\",\n",
    "\"imdb\": 6.0,\n",
    "\"category\": \"Romance\"\n",
    "},\n",
    "{\n",
    "\"name\": \"Bride Wars\",\n",
    "\"imdb\": 5.4,\n",
    "\"category\": \"Romance\"\n",
    "},\n",
    "{\n",
    "\"name\": \"AlphaJet\",\n",
    "\"imdb\": 3.2,\n",
    "\"category\": \"War\"\n",
    "},\n",
    "{\n",
    "\"name\": \"Ringing Crime\",\n",
    "\"imdb\": 4.0,\n",
    "\"category\": \"Crime\"\n",
    "},\n",
    "{\n",
    "\"name\": \"Joking muck\",\n",
    "\"imdb\": 7.2,\n",
    "\"category\": \"Comedy\"\n",
    "},\n",
    "{\n",
    "\"name\": \"What is the name\",\n",
    "\"imdb\": 9.2,\n",
    "\"category\": \"Suspense\"\n",
    "},\n",
    "{\n",
    "\"name\": \"Detective\",\n",
    "\"imdb\": 7.0,\n",
    "\"category\": \"Suspense\"\n",
    "},\n",
    "{\n",
    "\"name\": \"Exam\",\n",
    "\"imdb\": 4.2,\n",
    "\"category\": \"Thriller\"\n",
    "},\n",
    "{\n",
    "\"name\": \"We Two\",\n",
    "\"imdb\": 7.2,\n",
    "\"category\": \"Romance\"\n",
    "}\n",
    "]\n",
    "category(movies)"
   ]
  },
  {
   "cell_type": "code",
   "execution_count": null,
   "id": "29ee8187",
   "metadata": {},
   "outputs": [],
   "source": []
  }
 ],
 "metadata": {
  "kernelspec": {
   "display_name": "Python 3 (ipykernel)",
   "language": "python",
   "name": "python3"
  },
  "language_info": {
   "codemirror_mode": {
    "name": "ipython",
    "version": 3
   },
   "file_extension": ".py",
   "mimetype": "text/x-python",
   "name": "python",
   "nbconvert_exporter": "python",
   "pygments_lexer": "ipython3",
   "version": "3.9.13"
  },
  "vscode": {
   "interpreter": {
    "hash": "2a8dfe095fce2b5e88c64a2c3ee084c8e0e0d70b23e7b95b1cfb538be294c5c8"
   }
  }
 },
 "nbformat": 4,
 "nbformat_minor": 5
}

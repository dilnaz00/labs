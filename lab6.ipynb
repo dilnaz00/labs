{
 "cells": [
  {
   "cell_type": "markdown",
   "id": "e40bbae4",
   "metadata": {},
   "source": [
    "# Python builtin functions exercises"
   ]
  },
  {
   "cell_type": "markdown",
   "id": "d7124281",
   "metadata": {},
   "source": [
    "Write a Python program with builtin function to multiply all the numbers in a list"
   ]
  },
  {
   "cell_type": "code",
   "execution_count": 9,
   "id": "983130b3",
   "metadata": {},
   "outputs": [
    {
     "name": "stdout",
     "output_type": "stream",
     "text": [
      "2448\n"
     ]
    }
   ],
   "source": [
    "from operator import *\n",
    "a=[12,34,6]\n",
    "res=1\n",
    "for i in a :\n",
    "    res=mul(i,res)\n",
    "print(res)"
   ]
  },
  {
   "cell_type": "markdown",
   "id": "6cdbf9cf",
   "metadata": {},
   "source": [
    "Write a Python program with builtin function that accepts a string and calculate the number of upper case letters and lower case letters"
   ]
  },
  {
   "cell_type": "code",
   "execution_count": 12,
   "id": "b699ea01",
   "metadata": {},
   "outputs": [
    {
     "name": "stdout",
     "output_type": "stream",
     "text": [
      "DILNAZ\n",
      "Lowercase :0\n",
      "Uppercase : 6\n"
     ]
    }
   ],
   "source": [
    "string=input()\n",
    "cnt=0\n",
    "for i in string:\n",
    "    if i.islower():\n",
    "        cnt+=1\n",
    "print(f\"Lowercase : {cnt}\")\n",
    "print(f\"Uppercase : {len(string)-cnt}\" )\n",
    "     \n",
    "        \n",
    "        "
   ]
  },
  {
   "cell_type": "markdown",
   "id": "25b22e4e",
   "metadata": {},
   "source": [
    "Write a Python program with builtin function that checks whether a passed string is palindrome or not."
   ]
  },
  {
   "cell_type": "code",
   "execution_count": 5,
   "id": "3bff7419",
   "metadata": {},
   "outputs": [
    {
     "name": "stdout",
     "output_type": "stream",
     "text": [
      "test\n",
      "False\n"
     ]
    }
   ],
   "source": [
    "t=input()\n",
    "if t!=t[::-1]:\n",
    " print(False)\n",
    "else:\n",
    "    print(True)"
   ]
  },
  {
   "cell_type": "markdown",
   "id": "ed0f0fe7",
   "metadata": {},
   "source": [
    "Write a Python program that invoke square root function after specific milliseconds"
   ]
  },
  {
   "cell_type": "code",
   "execution_count": 22,
   "id": "ac2e193e",
   "metadata": {},
   "outputs": [
    {
     "name": "stdout",
     "output_type": "stream",
     "text": [
      "Sample Input:400\n",
      "50\n",
      "Sample Output:\n",
      "\n",
      "square root of 400 after 50 miliseconds is 20.0\n"
     ]
    }
   ],
   "source": [
    "import time\n",
    "import math\n",
    "t=int(input((\"Sample Input:\")))\n",
    "p=int(input())\n",
    "print(\"Sample Output:\\n\")\n",
    "time.sleep(p/1000)\n",
    "print(f\"Square root of {t} after {p} miliseconds is {math.sqrt(t)}\")\n",
    "\n"
   ]
  },
  {
   "cell_type": "markdown",
   "id": "0e63648b",
   "metadata": {},
   "source": [
    "Write a Python program with builtin function that returns True if all elements of the tuple are true."
   ]
  },
  {
   "cell_type": "code",
   "execution_count": 1,
   "id": "fc526654",
   "metadata": {},
   "outputs": [
    {
     "name": "stdout",
     "output_type": "stream",
     "text": [
      "False\n",
      "True\n"
     ]
    }
   ],
   "source": [
    "p=(True,False,111,1)\n",
    "t=(True,1,5)\n",
    "print(all(p))\n",
    "print(all(t))"
   ]
  },
  {
   "cell_type": "markdown",
   "id": "650fa414",
   "metadata": {},
   "source": [
    "t=[]\n",
    "p=()\n",
    "while True:\n",
    "    x=input()\n",
    "    t.append(x)\n",
    "    \n",
    "p=tuple(t)\n",
    "print(all(p))"
   ]
  },
  {
   "cell_type": "markdown",
   "id": "da3bab4e",
   "metadata": {},
   "source": [
    "# Python Directories and Files exercises"
   ]
  },
  {
   "cell_type": "markdown",
   "id": "6b83fb94",
   "metadata": {},
   "source": [
    "Write a Python program to list only directories, files and all directories, files in a specified path"
   ]
  },
  {
   "cell_type": "code",
   "execution_count": 10,
   "id": "a55cbe5d",
   "metadata": {},
   "outputs": [
    {
     "name": "stdout",
     "output_type": "stream",
     "text": [
      "Files and Directories:\n",
      ".git\n",
      ".ipynb_checkpoints\n",
      "data.txt\n",
      "js.json\n",
      "lab1.ipynb\n",
      "lab2.ipynb\n",
      "lab3.ipynb\n",
      "lab4.ipynb\n",
      "lab5.ipynb\n",
      "lab6.ipynb\n",
      "row.txt\n",
      "teeext\n",
      "teext\n",
      "text\n",
      "txt\n"
     ]
    }
   ],
   "source": [
    "import os\n",
    "\n",
    "with os.scandir('.') as enteries:\n",
    "    print(\"Files and Directories:\")\n",
    "    for entry in enteries:\n",
    "        print(entry.name)"
   ]
  },
  {
   "cell_type": "markdown",
   "id": "12119b41",
   "metadata": {},
   "source": [
    "Write a Python program to check for access to a specified path. Test the existence, readability, writability and executability of the specified path"
   ]
  },
  {
   "cell_type": "code",
   "execution_count": 10,
   "id": "c9ea6f25",
   "metadata": {},
   "outputs": [
    {
     "name": "stdout",
     "output_type": "stream",
     "text": [
      "True\n",
      "True\n",
      "True\n",
      "True\n"
     ]
    }
   ],
   "source": [
    "import os\n",
    "print(os.access(\"./lab2.ipynb\",os.F_OK))# объект существует\n",
    "print(os.access(\"./lab2.ipynb\",os.R_OK))#доступен на чтение\n",
    "print(os.access(\"./lab2.ipynb\",os.W_OK))#доступен на запись\n",
    "print(os.access(\"./lab2.ipynb\",os.X_OK))#доступен на исполнение\n"
   ]
  },
  {
   "cell_type": "markdown",
   "id": "1dedc1e5",
   "metadata": {},
   "source": [
    "Write a Python program to test whether a given path exists or not. If the path exist find the filename and directory portion of the given path."
   ]
  },
  {
   "cell_type": "code",
   "execution_count": 14,
   "id": "f847cdd9",
   "metadata": {},
   "outputs": [
    {
     "name": "stdout",
     "output_type": "stream",
     "text": [
      "lab4.ipynb\n",
      ".\n"
     ]
    }
   ],
   "source": [
    "import os\n",
    "path=\"./lab4.ipynb\"\n",
    "if os.path.exists(path):\n",
    "    print(os.path.basename(path))\n",
    "    print(os.path.dirname(path))\n",
    "else:\n",
    "    print(\"path doesn't exists\")"
   ]
  },
  {
   "cell_type": "markdown",
   "id": "f5ff518f",
   "metadata": {},
   "source": [
    "Write a Python program to count the number of lines in a text file."
   ]
  },
  {
   "cell_type": "code",
   "execution_count": 16,
   "id": "c20a7d5a",
   "metadata": {},
   "outputs": [
    {
     "name": "stdout",
     "output_type": "stream",
     "text": [
      "1427\n"
     ]
    }
   ],
   "source": [
    "import os\n",
    "file=open(\"./lab2.ipynb\",\"r\")\n",
    "d=file.readlines()\n",
    "print(len(d))"
   ]
  },
  {
   "cell_type": "markdown",
   "id": "dcb5fa65",
   "metadata": {},
   "source": [
    "Write a Python program to write a list to a file."
   ]
  },
  {
   "cell_type": "code",
   "execution_count": 17,
   "id": "df57cfe8",
   "metadata": {},
   "outputs": [
    {
     "data": {
      "text/plain": [
       "31"
      ]
     },
     "execution_count": 17,
     "metadata": {},
     "output_type": "execute_result"
    }
   ],
   "source": [
    "mylist=[1,2,3,4,5,6,7,8,9,10]\n",
    "\n",
    "openfile=open(\"myfile.txt\",\"w\")\n",
    "openfile.write(str((mylist)))\n"
   ]
  },
  {
   "cell_type": "markdown",
   "id": "6c2e4dec",
   "metadata": {},
   "source": [
    "Write a Python program to generate 26 text files named A.txt, B.txt, and so on up to Z.txt"
   ]
  },
  {
   "cell_type": "code",
   "execution_count": 11,
   "id": "1e797beb",
   "metadata": {},
   "outputs": [],
   "source": [
    "import string\n",
    "import os\n",
    "# with open(letter + '.txt', 'w') as wr:\n",
    "for letter in string.ascii_uppercase:\n",
    "    with open(letter + '.txt', 'w') as wr:\n",
    "        wr.write('%s ' %letter)\n",
    "    "
   ]
  },
  {
   "cell_type": "markdown",
   "id": "902118e4",
   "metadata": {},
   "source": [
    "Write a Python program to copy the contents of a file to another file"
   ]
  },
  {
   "cell_type": "code",
   "execution_count": 19,
   "id": "fd2531f1",
   "metadata": {},
   "outputs": [
    {
     "data": {
      "text/plain": [
       "12"
      ]
     },
     "execution_count": 19,
     "metadata": {},
     "output_type": "execute_result"
    }
   ],
   "source": [
    "path=\"./myfile.txt\"\n",
    "data=open(\"data.txt\",\"w\")\n",
    "data.write(path)"
   ]
  },
  {
   "cell_type": "markdown",
   "id": "124d7187",
   "metadata": {},
   "source": [
    "Write a Python program to delete file by specified path. Before deleting check for access and whether a given path exists or not."
   ]
  },
  {
   "cell_type": "code",
   "execution_count": 8,
   "id": "131bf4a0",
   "metadata": {},
   "outputs": [
    {
     "name": "stdout",
     "output_type": "stream",
     "text": [
      "existance: True\n"
     ]
    }
   ],
   "source": [
    "import os\n",
    "if os.access('myfile.txt', os.F_OK):\n",
    "    print(\"existance:\",True)\n",
    "os.remove('./myfile.txt')"
   ]
  },
  {
   "cell_type": "code",
   "execution_count": null,
   "id": "e4ced978",
   "metadata": {},
   "outputs": [],
   "source": []
  }
 ],
 "metadata": {
  "kernelspec": {
   "display_name": "Python 3 (ipykernel)",
   "language": "python",
   "name": "python3"
  },
  "language_info": {
   "codemirror_mode": {
    "name": "ipython",
    "version": 3
   },
   "file_extension": ".py",
   "mimetype": "text/x-python",
   "name": "python",
   "nbconvert_exporter": "python",
   "pygments_lexer": "ipython3",
   "version": "3.9.13"
  }
 },
 "nbformat": 4,
 "nbformat_minor": 5
}

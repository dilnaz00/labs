{
 "cells": [
  {
   "cell_type": "markdown",
   "id": "414cb9d1",
   "metadata": {},
   "source": [
    "Write a Python program that matches a string that has an 'a' followed by zero or more 'b''s."
   ]
  },
  {
   "cell_type": "code",
   "execution_count": 4,
   "id": "3fad7903",
   "metadata": {},
   "outputs": [
    {
     "name": "stdout",
     "output_type": "stream",
     "text": [
      "abb a ab\n"
     ]
    }
   ],
   "source": [
    "import re\n",
    "text = \"String: abb , a0 , ab\"\n",
    "print(*re.findall(r\"ab*\", text))"
   ]
  },
  {
   "cell_type": "markdown",
   "id": "19196a23",
   "metadata": {},
   "source": [
    "Write a Python program that matches a string that has an 'a' followed by two to three 'b'."
   ]
  },
  {
   "cell_type": "code",
   "execution_count": 6,
   "id": "6a21d0ba",
   "metadata": {},
   "outputs": [
    {
     "name": "stdout",
     "output_type": "stream",
     "text": [
      "abb abbb abbb abbb\n"
     ]
    }
   ],
   "source": [
    "import re\n",
    "text=\"abb abbbb ab abbbbbbb abbb\"\n",
    "print(*re.findall(r\"ab{2,3}\",text))"
   ]
  },
  {
   "cell_type": "markdown",
   "id": "4fb1a1ca",
   "metadata": {},
   "source": [
    "Write a Python program to find sequences of lowercase letters joined with a underscore."
   ]
  },
  {
   "cell_type": "code",
   "execution_count": 10,
   "id": "e4ed792b",
   "metadata": {},
   "outputs": [
    {
     "name": "stdout",
     "output_type": "stream",
     "text": [
      "sjafskff_ gfhjb_ jv_\n"
     ]
    }
   ],
   "source": [
    "import re\n",
    "text=\"sjafskff_ gfhjb_ jv_ HF_ fvkll kkk FJFJFFJ\"\n",
    "print(*re.findall(r\"[a-z]+_\",text))"
   ]
  },
  {
   "cell_type": "markdown",
   "id": "f8e405a7",
   "metadata": {},
   "source": [
    "Write a Python program to find the sequences of one upper case letter followed by lower case letters"
   ]
  },
  {
   "cell_type": "code",
   "execution_count": 20,
   "id": "cd6466ec",
   "metadata": {},
   "outputs": [
    {
     "name": "stdout",
     "output_type": "stream",
     "text": [
      "\n"
     ]
    }
   ],
   "source": [
    "import re\n",
    "text=\"Dilnaz Maximova ASDasd A ASDFG\"\n",
    "print(*re.findall(r\"[A-Z][a-z]+\",text))"
   ]
  },
  {
   "cell_type": "markdown",
   "id": "3a77cd74",
   "metadata": {},
   "source": [
    "Write a Python program that matches a string that has an 'a' followed by anything, ending in 'b'."
   ]
  },
  {
   "cell_type": "code",
   "execution_count": 37,
   "id": "01614af9",
   "metadata": {},
   "outputs": [
    {
     "name": "stdout",
     "output_type": "stream",
     "text": [
      "['ajfjerkb avkfevkba aaakakk A kdmkdmckdb']\n"
     ]
    }
   ],
   "source": [
    "import re\n",
    "text=\"ajfjerkb avkfevkba aaakakk A kdmkdmckdb\"\n",
    "print(re.findall(r\"^a.*?b$\",text))\n"
   ]
  },
  {
   "cell_type": "markdown",
   "id": "ccaebf1b",
   "metadata": {},
   "source": [
    "Write a Python program to replace all occurrences of space, comma, or dot with a colon."
   ]
  },
  {
   "cell_type": "code",
   "execution_count": 36,
   "id": "ebe94a17",
   "metadata": {},
   "outputs": [
    {
     "name": "stdout",
     "output_type": "stream",
     "text": [
      "ajfjerkb|avkfevkba|aaakakk|A|kdmkdmckdb\n"
     ]
    }
   ],
   "source": [
    "import re\n",
    "text=\"ajfjerkb avkfevkba,aaakakk A kdmkdmckdb\"\n",
    "print(re.sub(\"[ ,.]\",\"|\",text))"
   ]
  },
  {
   "cell_type": "markdown",
   "id": "89701b60",
   "metadata": {},
   "source": [
    "Write a python program to convert snake case string to camel case string."
   ]
  },
  {
   "cell_type": "code",
   "execution_count": null,
   "id": "a97de754",
   "metadata": {},
   "outputs": [],
   "source": [
    "import re\n",
    "text = input()\n",
    "def snake_to_camel(txt):\n",
    "    tx = re.findall(\"[a-z]+\",text)\n",
    "    help = \"\"\n",
    "    for i in tx:\n",
    "        help+=i[0].upper()+i[1:len(i)]\n",
    "    return help\n",
    "print(snake_to_camel(text))"
   ]
  },
  {
   "cell_type": "markdown",
   "id": "47c064a9",
   "metadata": {},
   "source": [
    "Write a Python program to split a string at uppercase letters.\n",
    "\n"
   ]
  },
  {
   "cell_type": "code",
   "execution_count": null,
   "id": "adc3f0da",
   "metadata": {},
   "outputs": [],
   "source": [
    "\n",
    "import re\n",
    "text = input()\n",
    "tx = re.sub(r\"(\\w)([A-Z])\", r\"\\1 \\2\",text)\n",
    "print(tx)"
   ]
  },
  {
   "cell_type": "markdown",
   "id": "4b10f301",
   "metadata": {},
   "source": [
    "Write a Python program to insert spaces between words starting with capital letters."
   ]
  },
  {
   "cell_type": "code",
   "execution_count": 38,
   "id": "04d96602",
   "metadata": {},
   "outputs": [
    {
     "name": "stdout",
     "output_type": "stream",
     "text": [
      "['TheRainInSpain']\n"
     ]
    }
   ],
   "source": [
    "import re\n",
    "\n",
    "txt = \"TheRainInSpain\"\n",
    "x = re.split(\"[A-Z]\", txt)\n",
    "print(x)"
   ]
  },
  {
   "cell_type": "markdown",
   "id": "93a28fd3",
   "metadata": {},
   "source": [
    "Write a Python program to convert a given camel case string to snake case."
   ]
  },
  {
   "cell_type": "code",
   "execution_count": null,
   "id": "ac928368",
   "metadata": {},
   "outputs": [],
   "source": [
    "import re\n",
    "text = input()\n",
    "tx = re.sub(r\"(\\w)(\\s)+([A-Z])\", r\"\\1 \\3\",text)\n",
    "print(tx)"
   ]
  }
 ],
 "metadata": {
  "kernelspec": {
   "display_name": "Python 3 (ipykernel)",
   "language": "python",
   "name": "python3"
  },
  "language_info": {
   "codemirror_mode": {
    "name": "ipython",
    "version": 3
   },
   "file_extension": ".py",
   "mimetype": "text/x-python",
   "name": "python",
   "nbconvert_exporter": "python",
   "pygments_lexer": "ipython3",
   "version": "3.9.13"
  }
 },
 "nbformat": 4,
 "nbformat_minor": 5
}

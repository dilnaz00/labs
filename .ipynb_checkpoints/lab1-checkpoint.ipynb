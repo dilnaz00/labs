{
 "cells": [
  {
   "cell_type": "markdown",
   "id": "6c918c9d",
   "metadata": {},
   "source": [
    "# Python Syntax "
   ]
  },
  {
   "cell_type": "markdown",
   "id": "ad7146a2",
   "metadata": {},
   "source": [
    "ex1"
   ]
  },
  {
   "cell_type": "code",
   "execution_count": null,
   "id": "90a06915",
   "metadata": {},
   "outputs": [],
   "source": [
    "print(\"Hello World\")"
   ]
  },
  {
   "cell_type": "markdown",
   "id": "c49ef652",
   "metadata": {},
   "source": [
    " ex2"
   ]
  },
  {
   "cell_type": "code",
   "execution_count": 2,
   "id": "909c2100",
   "metadata": {},
   "outputs": [
    {
     "name": "stdout",
     "output_type": "stream",
     "text": [
      "Five is greater than two!\n"
     ]
    }
   ],
   "source": [
    "if 5 > 2:\n",
    "  print(\"Five is greater than two!\")"
   ]
  },
  {
   "cell_type": "markdown",
   "id": "6158fed4",
   "metadata": {},
   "source": [
    "# Python Comments"
   ]
  },
  {
   "cell_type": "code",
   "execution_count": 3,
   "id": "5d649072",
   "metadata": {},
   "outputs": [],
   "source": [
    "#This is a new comment"
   ]
  },
  {
   "cell_type": "code",
   "execution_count": 4,
   "id": "f02865e3",
   "metadata": {},
   "outputs": [
    {
     "data": {
      "text/plain": [
       "'\\nThis is a comment\\nwritten in \\nmore than just one line\\n'"
      ]
     },
     "execution_count": 4,
     "metadata": {},
     "output_type": "execute_result"
    }
   ],
   "source": [
    "\"\"\"\n",
    "This is a comment\n",
    "written in \n",
    "more than just one line\n",
    "\"\"\""
   ]
  },
  {
   "cell_type": "markdown",
   "id": "9c76d5d2",
   "metadata": {},
   "source": [
    "# Python Variables "
   ]
  },
  {
   "cell_type": "markdown",
   "id": "a8cb7de2",
   "metadata": {},
   "source": [
    "ex1"
   ]
  },
  {
   "cell_type": "code",
   "execution_count": 44,
   "id": "f1670c60",
   "metadata": {},
   "outputs": [],
   "source": [
    "corname=\"Volvo\""
   ]
  },
  {
   "cell_type": "markdown",
   "id": "7f50dbf7",
   "metadata": {},
   "source": [
    "ex2"
   ]
  },
  {
   "cell_type": "code",
   "execution_count": 8,
   "id": "26b136fd",
   "metadata": {},
   "outputs": [],
   "source": [
    "x=50"
   ]
  },
  {
   "cell_type": "markdown",
   "id": "fb4a0b64",
   "metadata": {},
   "source": [
    "ex3"
   ]
  },
  {
   "cell_type": "code",
   "execution_count": 9,
   "id": "4599e312",
   "metadata": {},
   "outputs": [
    {
     "name": "stdout",
     "output_type": "stream",
     "text": [
      "15\n"
     ]
    }
   ],
   "source": [
    "x=5;\n",
    "y=10;\n",
    "print(x+y)\n"
   ]
  },
  {
   "cell_type": "markdown",
   "id": "a1118348",
   "metadata": {},
   "source": [
    "ex4\n"
   ]
  },
  {
   "cell_type": "code",
   "execution_count": null,
   "id": "0d83a3d7",
   "metadata": {},
   "outputs": [],
   "source": [
    "x=5\n",
    "y=10\n",
    "z=x+y\n",
    "print(z)"
   ]
  },
  {
   "cell_type": "markdown",
   "id": "8b9d1a3e",
   "metadata": {},
   "source": [
    "ex5"
   ]
  },
  {
   "cell_type": "code",
   "execution_count": 6,
   "id": "cfaf927b",
   "metadata": {},
   "outputs": [],
   "source": [
    "myfirst_name = \"John\""
   ]
  },
  {
   "cell_type": "markdown",
   "id": "6f853d78",
   "metadata": {},
   "source": [
    "ex6"
   ]
  },
  {
   "cell_type": "code",
   "execution_count": 5,
   "id": "7c5373f5",
   "metadata": {},
   "outputs": [],
   "source": [
    "x=y=z=\"Orange\""
   ]
  },
  {
   "cell_type": "markdown",
   "id": "93d4e9b5",
   "metadata": {},
   "source": [
    "ex7"
   ]
  },
  {
   "cell_type": "code",
   "execution_count": null,
   "id": "9dd4ba30",
   "metadata": {},
   "outputs": [],
   "source": [
    "def myfunc():\n",
    "    global x;\n",
    "    x=\"fantastic\""
   ]
  },
  {
   "cell_type": "markdown",
   "id": "e561c8c1",
   "metadata": {},
   "source": [
    "# Python Data Types\n"
   ]
  },
  {
   "cell_type": "markdown",
   "id": "f9651593",
   "metadata": {},
   "source": [
    "ex1"
   ]
  },
  {
   "cell_type": "code",
   "execution_count": 45,
   "id": "57a6a0ec",
   "metadata": {},
   "outputs": [
    {
     "name": "stdout",
     "output_type": "stream",
     "text": [
      "<class 'int'>\n"
     ]
    }
   ],
   "source": [
    "x=5\n",
    "print(type(x))\n",
    "#int"
   ]
  },
  {
   "cell_type": "markdown",
   "id": "ffe0db01",
   "metadata": {},
   "source": [
    "ex2"
   ]
  },
  {
   "cell_type": "markdown",
   "id": "9486687e",
   "metadata": {},
   "source": [
    "ex3"
   ]
  },
  {
   "cell_type": "code",
   "execution_count": 2,
   "id": "e0257a01",
   "metadata": {},
   "outputs": [
    {
     "name": "stdout",
     "output_type": "stream",
     "text": [
      "<class 'float'>\n"
     ]
    }
   ],
   "source": [
    "x=20.5\n",
    "print(type(x))\n",
    "#float"
   ]
  },
  {
   "cell_type": "markdown",
   "id": "6e93367e",
   "metadata": {},
   "source": [
    "ex4"
   ]
  },
  {
   "cell_type": "code",
   "execution_count": 3,
   "id": "4443308c",
   "metadata": {},
   "outputs": [
    {
     "name": "stdout",
     "output_type": "stream",
     "text": [
      "<class 'list'>\n"
     ]
    }
   ],
   "source": [
    "x = [\"apple\", \"banana\", \"cherry\"]\n",
    "print(type(x))\n",
    "#list"
   ]
  },
  {
   "cell_type": "markdown",
   "id": "f5875b42",
   "metadata": {},
   "source": [
    "ex5"
   ]
  },
  {
   "cell_type": "code",
   "execution_count": 4,
   "id": "4ae8dc2e",
   "metadata": {},
   "outputs": [
    {
     "name": "stdout",
     "output_type": "stream",
     "text": [
      "<class 'tuple'>\n"
     ]
    }
   ],
   "source": [
    "x = (\"apple\", \"banana\", \"cherry\")\n",
    "print(type(x))\n",
    "#tuple"
   ]
  },
  {
   "cell_type": "markdown",
   "id": "1884cc2e",
   "metadata": {},
   "source": [
    "ex6"
   ]
  },
  {
   "cell_type": "code",
   "execution_count": 5,
   "id": "3559baf5",
   "metadata": {},
   "outputs": [
    {
     "name": "stdout",
     "output_type": "stream",
     "text": [
      "<class 'dict'>\n"
     ]
    }
   ],
   "source": [
    "x = {\"name\" : \"John\", \"age\" : 36}\n",
    "print(type(x))\n",
    "#dict"
   ]
  },
  {
   "cell_type": "markdown",
   "id": "c9785938",
   "metadata": {},
   "source": [
    "ex7"
   ]
  },
  {
   "cell_type": "code",
   "execution_count": 6,
   "id": "01875526",
   "metadata": {},
   "outputs": [
    {
     "name": "stdout",
     "output_type": "stream",
     "text": [
      "<class 'bool'>\n"
     ]
    }
   ],
   "source": [
    "x = True\n",
    "print(type(x))\n",
    "#bool"
   ]
  },
  {
   "cell_type": "markdown",
   "id": "7c5d1bc1",
   "metadata": {},
   "source": [
    "# Python Numbers"
   ]
  },
  {
   "cell_type": "markdown",
   "id": "5cdd7a30",
   "metadata": {},
   "source": [
    "ex1"
   ]
  },
  {
   "cell_type": "code",
   "execution_count": 12,
   "id": "43d959ec",
   "metadata": {},
   "outputs": [],
   "source": [
    "x = 5\n",
    "x = float(x)"
   ]
  },
  {
   "cell_type": "markdown",
   "id": "2d6d2d3e",
   "metadata": {},
   "source": [
    "ex2"
   ]
  },
  {
   "cell_type": "code",
   "execution_count": 13,
   "id": "27b58bef",
   "metadata": {},
   "outputs": [],
   "source": [
    "x = 5.9\n",
    "x = int(x)"
   ]
  },
  {
   "cell_type": "markdown",
   "id": "59d08478",
   "metadata": {},
   "source": [
    "ex3"
   ]
  },
  {
   "cell_type": "code",
   "execution_count": 14,
   "id": "01afcd59",
   "metadata": {},
   "outputs": [],
   "source": [
    "x = 5\n",
    "x = complex(x)\n"
   ]
  },
  {
   "cell_type": "markdown",
   "id": "de6091f4",
   "metadata": {},
   "source": [
    "# Python Strings\n"
   ]
  },
  {
   "cell_type": "markdown",
   "id": "5e7a3bb7",
   "metadata": {},
   "source": [
    "ex1"
   ]
  },
  {
   "cell_type": "code",
   "execution_count": 15,
   "id": "5e550d0e",
   "metadata": {},
   "outputs": [
    {
     "name": "stdout",
     "output_type": "stream",
     "text": [
      "11\n"
     ]
    }
   ],
   "source": [
    "x = \"Hello World\"\n",
    "print(len(x))"
   ]
  },
  {
   "cell_type": "markdown",
   "id": "1ef5daec",
   "metadata": {},
   "source": [
    "ex2"
   ]
  },
  {
   "cell_type": "code",
   "execution_count": 23,
   "id": "57bd65d2",
   "metadata": {},
   "outputs": [],
   "source": [
    "txt = \"Hello World\"\n",
    "x = txt[0]\n"
   ]
  },
  {
   "cell_type": "markdown",
   "id": "92ef1308",
   "metadata": {},
   "source": [
    "ex3"
   ]
  },
  {
   "cell_type": "code",
   "execution_count": 24,
   "id": "c7b0091f",
   "metadata": {},
   "outputs": [
    {
     "name": "stdout",
     "output_type": "stream",
     "text": [
      "ell\n"
     ]
    }
   ],
   "source": [
    "txt = \" Hello World \"\n",
    "x = txt[2:5]\n",
    "print(x)"
   ]
  },
  {
   "cell_type": "markdown",
   "id": "0c1937cc",
   "metadata": {},
   "source": [
    "ex4"
   ]
  },
  {
   "cell_type": "code",
   "execution_count": 25,
   "id": "8522200c",
   "metadata": {},
   "outputs": [],
   "source": [
    "txt = \" Hello World \"\n",
    "x = txt.strip()\n"
   ]
  },
  {
   "cell_type": "markdown",
   "id": "1ac99aba",
   "metadata": {},
   "source": [
    "ex5"
   ]
  },
  {
   "cell_type": "code",
   "execution_count": 26,
   "id": "f99ba7f2",
   "metadata": {},
   "outputs": [
    {
     "name": "stdout",
     "output_type": "stream",
     "text": [
      "HELLO WORLD\n"
     ]
    }
   ],
   "source": [
    "txt = \"Hello World\"\n",
    "txt = txt.upper()\n",
    "print(txt)"
   ]
  },
  {
   "cell_type": "markdown",
   "id": "ea7db148",
   "metadata": {},
   "source": [
    "ex6"
   ]
  },
  {
   "cell_type": "code",
   "execution_count": 28,
   "id": "e346a7c1",
   "metadata": {},
   "outputs": [
    {
     "name": "stdout",
     "output_type": "stream",
     "text": [
      "hello world\n"
     ]
    }
   ],
   "source": [
    "txt = \"Hello World\"\n",
    "txt = txt.lower()\n",
    "print(txt)"
   ]
  },
  {
   "cell_type": "markdown",
   "id": "1be53817",
   "metadata": {},
   "source": [
    "ex7"
   ]
  },
  {
   "cell_type": "code",
   "execution_count": 31,
   "id": "a1c0037b",
   "metadata": {},
   "outputs": [],
   "source": [
    "txt = \"Hello World\"\n",
    "txt = txt.replace('H','J')"
   ]
  },
  {
   "cell_type": "markdown",
   "id": "d349255f",
   "metadata": {},
   "source": [
    "ex8"
   ]
  },
  {
   "cell_type": "code",
   "execution_count": 30,
   "id": "49f2ca2f",
   "metadata": {},
   "outputs": [
    {
     "name": "stdout",
     "output_type": "stream",
     "text": [
      "My name is John, and I am 36 \n"
     ]
    }
   ],
   "source": [
    "age = 36\n",
    "txt = \"My name is John, and I am {} \"\n",
    "print(txt.format(age))"
   ]
  },
  {
   "cell_type": "code",
   "execution_count": null,
   "id": "d0316b76",
   "metadata": {},
   "outputs": [],
   "source": []
  }
 ],
 "metadata": {
  "kernelspec": {
   "display_name": "Python 3 (ipykernel)",
   "language": "python",
   "name": "python3"
  },
  "language_info": {
   "codemirror_mode": {
    "name": "ipython",
    "version": 3
   },
   "file_extension": ".py",
   "mimetype": "text/x-python",
   "name": "python",
   "nbconvert_exporter": "python",
   "pygments_lexer": "ipython3",
   "version": "3.9.13"
  }
 },
 "nbformat": 4,
 "nbformat_minor": 5
}

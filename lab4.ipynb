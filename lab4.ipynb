{
 "cells": [
  {
   "cell_type": "markdown",
   "id": "f29fbaa1",
   "metadata": {},
   "source": [
    "# Generators"
   ]
  },
  {
   "cell_type": "markdown",
   "id": "d146c8c2",
   "metadata": {},
   "source": [
    "Create a generator that generates the squares of numbers up to some number N.\n",
    "\n"
   ]
  },
  {
   "cell_type": "code",
   "execution_count": 6,
   "id": "e6edfb93",
   "metadata": {},
   "outputs": [
    {
     "name": "stdout",
     "output_type": "stream",
     "text": [
      "0\n",
      "1\n",
      "4\n",
      "9\n",
      "16\n",
      "25\n",
      "36\n",
      "49\n",
      "64\n",
      "81\n",
      "100\n",
      "121\n",
      "144\n",
      "169\n",
      "196\n"
     ]
    }
   ],
   "source": [
    "def squares(n):\n",
    "    for i in range(n):\n",
    "        yield i**2\n",
    "        \n",
    "for i in squares(15):\n",
    "    print(i)"
   ]
  },
  {
   "cell_type": "markdown",
   "id": "36654ff8",
   "metadata": {},
   "source": [
    "Write a program using generator to print the even numbers between 0 and n in comma separated form where n is input from console."
   ]
  },
  {
   "cell_type": "code",
   "execution_count": 8,
   "id": "45551fe9",
   "metadata": {},
   "outputs": [
    {
     "name": "stdout",
     "output_type": "stream",
     "text": [
      "4\n",
      "0 2 "
     ]
    }
   ],
   "source": [
    "def EvenGenerator(n):\n",
    "    i=0\n",
    "    while i<=n:\n",
    "        if i%2==0:\n",
    "            yield i\n",
    "        i+=1\n",
    "\n",
    "\n",
    "n=int(input())\n",
    "values = []\n",
    "for i in EvenGenerator(n):\n",
    "    values.append(str(i))\n",
    "\n",
    "print (\",\".join(values))\n"
   ]
  },
  {
   "cell_type": "markdown",
   "id": "33897b0f",
   "metadata": {},
   "source": [
    "Define a function with a generator which can iterate the numbers, which are divisible by 3 and 4, between a given range 0 and n."
   ]
  },
  {
   "cell_type": "code",
   "execution_count": 9,
   "id": "a0cf9b61",
   "metadata": {},
   "outputs": [
    {
     "name": "stdout",
     "output_type": "stream",
     "text": [
      "15\n",
      "0\n",
      "12\n"
     ]
    }
   ],
   "source": [
    "def gen(n):\n",
    "    for i in range(0,n):\n",
    "        if i%3==0 and i%4==0:\n",
    "            yield i\n",
    "        i+=1\n",
    "        \n",
    "n=int(input())\n",
    "for i in gen(n):\n",
    "    print(i)"
   ]
  },
  {
   "cell_type": "markdown",
   "id": "4be392c6",
   "metadata": {},
   "source": [
    "Implement a generator called squares to yield the square of all numbers from (a) to (b). Test it with a \"for\" loop and print each of the yielded values."
   ]
  },
  {
   "cell_type": "code",
   "execution_count": 17,
   "id": "b39c92df",
   "metadata": {},
   "outputs": [
    {
     "name": "stdout",
     "output_type": "stream",
     "text": [
      "9\n",
      "2\n",
      "4\n",
      "9\n",
      "16\n",
      "25\n",
      "36\n",
      "49\n",
      "64\n"
     ]
    }
   ],
   "source": [
    "\n",
    "b=int(input())\n",
    "a=int(input())\n",
    "for i in range(a,b):\n",
    "  print(i**2)"
   ]
  },
  {
   "cell_type": "code",
   "execution_count": null,
   "id": "a2f56d33",
   "metadata": {},
   "outputs": [],
   "source": [
    "Implement a generator that returns all numbers from (n) down to 0."
   ]
  },
  {
   "cell_type": "code",
   "execution_count": null,
   "id": "4b1fb499",
   "metadata": {},
   "outputs": [
    {
     "name": "stdout",
     "output_type": "stream",
     "text": [
      "9\n",
      "[9, 8, 7, 6, 5, 4, 3, 2, 1, 0]\n"
     ]
    }
   ],
   "source": [
    "n=int(input())\n",
    "x=[]\n",
    "for i  in range(0,n+1):\n",
    "    x.append(i)\n",
    "x.reverse()\n",
    "print(x)\n",
    "    "
   ]
  },
  {
   "cell_type": "markdown",
   "id": "d660596c",
   "metadata": {},
   "source": [
    "# JSON\n"
   ]
  },
  {
   "cell_type": "code",
   "execution_count": 11,
   "id": "20558f97",
   "metadata": {},
   "outputs": [
    {
     "name": "stdout",
     "output_type": "stream",
     "text": [
      "\n",
      "      Interface Status\n",
      "================================================================================\n",
      "DN                                                 Description           Speed    MTU  \n",
      "-------------------------------------------------- --------------------  ------  ------\n",
      "      \n",
      "topology/pod-1/node-201/sys/phys-[eth1/33]                               inherit  9150\n",
      "topology/pod-1/node-201/sys/phys-[eth1/34]                               inherit  9150\n",
      "topology/pod-1/node-201/sys/phys-[eth1/35]                               inherit  9150\n",
      "topology/pod-1/node-201/sys/phys-[eth1/36]                               inherit  9150\n",
      "topology/pod-1/node-201/sys/phys-[eth1/1]                                inherit  9150\n",
      "topology/pod-1/node-201/sys/phys-[eth1/2]                                inherit  9150\n",
      "topology/pod-1/node-201/sys/phys-[eth1/3]                                inherit  9150\n",
      "topology/pod-1/node-201/sys/phys-[eth1/4]                                inherit  9150\n",
      "topology/pod-1/node-201/sys/phys-[eth1/5]                                inherit  9150\n",
      "topology/pod-1/node-201/sys/phys-[eth1/6]                                inherit  9150\n",
      "topology/pod-1/node-201/sys/phys-[eth1/7]                                inherit  9150\n",
      "topology/pod-1/node-201/sys/phys-[eth1/8]                                inherit  9150\n",
      "topology/pod-1/node-201/sys/phys-[eth1/9]                                inherit  9150\n",
      "topology/pod-1/node-201/sys/phys-[eth1/10]                               inherit  9150\n",
      "topology/pod-1/node-201/sys/phys-[eth1/11]                               inherit  9150\n",
      "topology/pod-1/node-201/sys/phys-[eth1/12]                               inherit  9150\n",
      "topology/pod-1/node-201/sys/phys-[eth1/13]                               inherit  9150\n",
      "topology/pod-1/node-201/sys/phys-[eth1/14]                               inherit  9150\n"
     ]
    }
   ],
   "source": [
    "import json\n",
    "file=open('js.json','r')\n",
    "data=json.load(file)\n",
    "\n",
    "print(\"\"\"\n",
    "      Interface Status\n",
    "================================================================================\n",
    "DN                                                 Description           Speed    MTU  \n",
    "-------------------------------------------------- --------------------  ------  ------\n",
    "      \"\"\")\n",
    "# for i in data[\"imdata\"]:\n",
    "#       print(i[\"l1PhysIf\"][\"attributes\"][\"dn\"])\n",
    "#       print(i[\"l1PhysIf\"][\"attributes\"][\"descr\"])\n",
    "#       print(i[\"l1PhysIf\"][\"attributes\"][ \"speed\"])\n",
    "#       print(i[\"l1PhysIf\"][\"attributes\"][\"mtu\"])\n",
    "for i in data[\"imdata\"]:\n",
    "    print(\"{DN:50}{Speed:>30}{MTU:>6}\".format(DN = i[\"l1PhysIf\"][\"attributes\"][\"dn\"], Speed = i[\"l1PhysIf\"][\"attributes\"][\"speed\"], MTU = i[\"l1PhysIf\"][\"attributes\"][\"mtu\"]))\n"
   ]
  },
  {
   "cell_type": "markdown",
   "id": "6926a82a",
   "metadata": {},
   "source": [
    "# Date"
   ]
  },
  {
   "cell_type": "markdown",
   "id": "ac4f91b4",
   "metadata": {},
   "source": [
    "Write a Python program to subtract five days from current date."
   ]
  },
  {
   "cell_type": "code",
   "execution_count": 12,
   "id": "91c32de3",
   "metadata": {},
   "outputs": [
    {
     "name": "stdout",
     "output_type": "stream",
     "text": [
      "Current Date : 2023-02-20\n",
      "5 days before Current Date : 2023-02-15\n"
     ]
    }
   ],
   "source": [
    "from datetime import date, timedelta\n",
    "dt = date.today() - timedelta(5)\n",
    "print('Current Date :',date.today())\n",
    "print('5 days before Current Date :',dt)"
   ]
  },
  {
   "cell_type": "markdown",
   "id": "bf6ec364",
   "metadata": {},
   "source": [
    "Write a Python program to print yesterday, today, tomorrow."
   ]
  },
  {
   "cell_type": "code",
   "execution_count": null,
   "id": "7dbe3e57",
   "metadata": {},
   "outputs": [
    {
     "name": "stdout",
     "output_type": "stream",
     "text": [
      "Current Date : 2023-02-20\n",
      "Tomorrow : 2023-02-21\n",
      "Yesterday: 2023-02-19\n"
     ]
    }
   ],
   "source": [
    "from datetime import date, timedelta\n",
    "dt = date.today() + timedelta(1)\n",
    "dy=  date.today() - timedelta(1)\n",
    "print('Current Date :',date.today())\n",
    "print('Tomorrow :',dt)\n",
    "print('Yesterday:' , dy)"
   ]
  },
  {
   "cell_type": "markdown",
   "id": "b6869b49",
   "metadata": {},
   "source": [
    "Write a Python program to drop microseconds from datetime."
   ]
  },
  {
   "cell_type": "code",
   "execution_count": null,
   "id": "53f7f16d",
   "metadata": {},
   "outputs": [
    {
     "name": "stdout",
     "output_type": "stream",
     "text": [
      "2023-02-20 01:26:07\n"
     ]
    }
   ],
   "source": [
    "import datetime\n",
    "\n",
    "dt = datetime.datetime.now().replace(microsecond=0)\n",
    "print(dt)\n"
   ]
  },
  {
   "cell_type": "markdown",
   "id": "6f78ab79",
   "metadata": {},
   "source": [
    "Write a Python program to calculate two date difference in seconds."
   ]
  },
  {
   "cell_type": "code",
   "execution_count": null,
   "id": "2fea3f88",
   "metadata": {},
   "outputs": [
    {
     "name": "stdout",
     "output_type": "stream",
     "text": [
      "48038560\n"
     ]
    }
   ],
   "source": [
    "import datetime\n",
    "def date_diff_in_Seconds(dt2, dt1):\n",
    "  delta = dt2 - dt1\n",
    "  return delta.days * 24 * 3600 + delta.seconds\n",
    "x=datetime.datetime(2020,10,5,7,45,12)\n",
    "y=datetime.datetime(2022,4,14,7,47,52)\n",
    "print(date_diff_in_Seconds(y,x))"
   ]
  },
  {
   "cell_type": "markdown",
   "id": "1f6354c1",
   "metadata": {},
   "source": [
    "# Math\n"
   ]
  },
  {
   "cell_type": "markdown",
   "id": "c019e0c5",
   "metadata": {},
   "source": [
    "Write a Python program to convert degree to radian."
   ]
  },
  {
   "cell_type": "code",
   "execution_count": 5,
   "id": "ddf0c2c5",
   "metadata": {},
   "outputs": [
    {
     "name": "stdout",
     "output_type": "stream",
     "text": [
      "Input degrees: 45\n",
      "0.7853981633974483\n"
     ]
    }
   ],
   "source": [
    "import math\n",
    "degree = float(input(\"Input degrees: \"))\n",
    "radian = degree*(math.pi/180)\n",
    "print(radian)"
   ]
  },
  {
   "cell_type": "markdown",
   "id": "2b5c755b",
   "metadata": {},
   "source": [
    "Write a Python program to calculate the area of a trapezoid"
   ]
  },
  {
   "cell_type": "code",
   "execution_count": null,
   "id": "a03b28cc",
   "metadata": {},
   "outputs": [],
   "source": [
    "import math\n",
    "h=float(input(\"Height:\" ))\n",
    "x=float(input(\"Base, first value:\" ))\n",
    "y=float(input(\"Base, second value:\" ))\n",
    "print(h*((x+y)/2))"
   ]
  },
  {
   "cell_type": "markdown",
   "id": "e15a1845",
   "metadata": {},
   "source": [
    "Write a Python program to calculate the area of regular polygon."
   ]
  },
  {
   "cell_type": "code",
   "execution_count": 4,
   "id": "b902e196",
   "metadata": {},
   "outputs": [
    {
     "name": "stdout",
     "output_type": "stream",
     "text": [
      "4\n",
      "25\n",
      "625\n"
     ]
    }
   ],
   "source": [
    "\n",
    "import math\n",
    "a = int(input())\n",
    "b = int(input())\n",
    "tg=math.tan((math.pi)/a)\n",
    "s=0.25*a*b*b/tg\n",
    "print(int(s))"
   ]
  },
  {
   "cell_type": "markdown",
   "id": "0867909d",
   "metadata": {},
   "source": [
    "Write a Python program to calculate the area of a parallelogram."
   ]
  },
  {
   "cell_type": "code",
   "execution_count": 1,
   "id": "d3b8a003",
   "metadata": {},
   "outputs": [
    {
     "name": "stdout",
     "output_type": "stream",
     "text": [
      "4\n",
      "5\n",
      "20.0\n"
     ]
    }
   ],
   "source": [
    "a = float(input())\n",
    "b = float(input())\n",
    "print(float(a*b))"
   ]
  }
 ],
 "metadata": {
  "kernelspec": {
   "display_name": "Python 3 (ipykernel)",
   "language": "python",
   "name": "python3"
  },
  "language_info": {
   "codemirror_mode": {
    "name": "ipython",
    "version": 3
   },
   "file_extension": ".py",
   "mimetype": "text/x-python",
   "name": "python",
   "nbconvert_exporter": "python",
   "pygments_lexer": "ipython3",
   "version": "3.9.13"
  },
  "vscode": {
   "interpreter": {
    "hash": "9574e5c9ee31e8c9f3cd2d30cb296d378efbdcfd0bc41bcce531433eb354a782"
   }
  }
 },
 "nbformat": 4,
 "nbformat_minor": 5
}
